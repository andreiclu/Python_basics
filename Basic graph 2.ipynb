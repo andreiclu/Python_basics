{
 "cells": [
  {
   "cell_type": "code",
   "execution_count": 14,
   "id": "8c42d7e6",
   "metadata": {
    "scrolled": true
   },
   "outputs": [],
   "source": [
    "from bokeh.plotting import figure, output_file, show\n",
    "p= figure(plot_width=500,plot_height=400,tools = \"pan,wheel_zoom,box_zoom,reset\")\n",
    "\n",
    "p.title.text=\"Earthquake\"\n",
    "p.title.text_color=\"Orange\"\n",
    "p.title.text_font=\"times\"\n",
    "p.title.text_font_style=\"italic\"\n",
    "\n",
    "p.yaxis.minor_tick_line_color=\"Yellow\"\n",
    "\n",
    "p.xaxis.axis_label=\"Times\"\n",
    "p.yaxis.axis_label=\"Value\"\n",
    "\n",
    "p.line([1,2,3,4,5],[5,6,5,5,3],line_width=2,color=\"red\")\n",
    "p.circle([i*2 for i in [1,2,3,4,5]], [5,6,5,5,3], size=8,color=\"red\", alpha=0.5)\n",
    "output_file(\"Scatter_plotting.html\")\n",
    "show(p)\n"
   ]
  },
  {
   "cell_type": "code",
   "execution_count": 11,
   "id": "e8ff896c",
   "metadata": {},
   "outputs": [],
   "source": [
    "from bokeh.plotting import figure, output_file, show\n",
    "import pandas\n",
    "\n",
    "df = pandas.read_csv(\"adbe.csv\", parse_dates=[\"Date\"])\n",
    "\n",
    "p=figure(width=500,height=250,x_axis_type=\"datetime\")\n",
    "\n",
    "p.line(df[\"Date\"], df[\"Close\"], color=\"Orange\")\n",
    "\n",
    "output_file(\"Timeseries.html\")\n",
    "show(p)"
   ]
  }
 ],
 "metadata": {
  "kernelspec": {
   "display_name": "Python 3 (ipykernel)",
   "language": "python",
   "name": "python3"
  },
  "language_info": {
   "codemirror_mode": {
    "name": "ipython",
    "version": 3
   },
   "file_extension": ".py",
   "mimetype": "text/x-python",
   "name": "python",
   "nbconvert_exporter": "python",
   "pygments_lexer": "ipython3",
   "version": "3.9.7"
  }
 },
 "nbformat": 4,
 "nbformat_minor": 5
}
